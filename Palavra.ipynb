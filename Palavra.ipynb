{
  "cells": [
    {
      "cell_type": "markdown",
      "metadata": {
        "id": "view-in-github",
        "colab_type": "text"
      },
      "source": [
        "<a href=\"https://colab.research.google.com/github/evelyn7130/palavra1/blob/featpalavra/Palavra.ipynb\" target=\"_parent\"><img src=\"https://colab.research.google.com/assets/colab-badge.svg\" alt=\"Open In Colab\"/></a>"
      ]
    },
    {
      "cell_type": "code",
      "source": [
        "palavra = 'Brasil'\n",
        "vogais = 'aeiou'\n",
        "consoante = 0\n",
        "vogal = 0\n",
        "for letra in palavra:\n",
        "  if letra in vogais:\n",
        "    vogal += 1\n",
        "  else:\n",
        "    consoante += 1\n",
        "\n",
        "print(f\"A palavra {palavra} tem {vogal} vogais e {consoante} consoantes\")"
      ],
      "metadata": {
        "id": "Pcc6xAmFiX5q",
        "colab": {
          "base_uri": "https://localhost:8080/"
        },
        "outputId": "a8ced887-4021-4052-fade-da74eacac27a"
      },
      "execution_count": 1,
      "outputs": [
        {
          "output_type": "stream",
          "name": "stdout",
          "text": [
            "A palavra Brasil tem 2 vogais e 4 consoantes\n"
          ]
        }
      ]
    }
  ],
  "metadata": {
    "colab": {
      "provenance": [],
      "include_colab_link": true
    },
    "kernelspec": {
      "display_name": "Python 3",
      "name": "python3"
    }
  },
  "nbformat": 4,
  "nbformat_minor": 0
}